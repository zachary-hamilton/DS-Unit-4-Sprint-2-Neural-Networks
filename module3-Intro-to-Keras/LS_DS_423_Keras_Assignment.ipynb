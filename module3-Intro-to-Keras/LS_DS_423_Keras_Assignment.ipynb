{
  "nbformat": 4,
  "nbformat_minor": 0,
  "metadata": {
    "colab": {
      "name": "LS_DS_433_Keras_Assignment.ipynb",
      "provenance": []
    },
    "kernelspec": {
      "display_name": "Python 3",
      "language": "python",
      "name": "python3"
    },
    "language_info": {
      "codemirror_mode": {
        "name": "ipython",
        "version": 3
      },
      "file_extension": ".py",
      "mimetype": "text/x-python",
      "name": "python",
      "nbconvert_exporter": "python",
      "pygments_lexer": "ipython3",
      "version": "3.7.3"
    }
  },
  "cells": [
    {
      "cell_type": "markdown",
      "metadata": {
        "colab_type": "text",
        "id": "pBQsZEJmubLs"
      },
      "source": [
        "<img align=\"left\" src=\"https://lever-client-logos.s3.amazonaws.com/864372b1-534c-480e-acd5-9711f850815c-1524247202159.png\" width=200>\n",
        "<br></br>\n",
        "\n",
        "# Neural Network Framework (Keras)\n",
        "\n",
        "## *Data Science Unit 4 Sprint 2 Assignment 3*\n",
        "\n",
        "## Use the Keras Library to build a Multi-Layer Perceptron Model on the Boston Housing dataset\n",
        "\n",
        "- The Boston Housing dataset comes with the Keras library so use Keras to import it into your notebook. \n",
        "- Normalize the data (all features should have roughly the same scale)\n",
        "- Import the type of model and layers that you will need from Keras.\n",
        "- Instantiate a model object and use `model.add()` to add layers to your model\n",
        "- Since this is a regression model you will have a single output node in the final layer.\n",
        "- Use activation functions that are appropriate for this task\n",
        "- Compile your model\n",
        "- Fit your model and report its accuracy in terms of Mean Squared Error\n",
        "- Use the history object that is returned from model.fit to make graphs of the model's loss or train/validation accuracies by epoch. \n",
        "- Run this same data through a linear regression model. Which achieves higher accuracy?\n",
        "- Do a little bit of feature engineering and see how that affects your neural network model. (you will need to change your model to accept more inputs)\n",
        "- After feature engineering, which model sees a greater accuracy boost due to the new features?"
      ]
    },
    {
      "cell_type": "code",
      "metadata": {
        "id": "ExBpErUsbB7F",
        "colab_type": "code",
        "colab": {
          "base_uri": "https://localhost:8080/",
          "height": 51
        },
        "outputId": "01dd2177-fd5b-408c-b8b8-3b84e40b732b"
      },
      "source": [
        "# imports\n",
        "from tensorflow.keras.datasets import boston_housing\n",
        "from tensorflow.keras import Sequential\n",
        "from tensorflow.keras.layers import Dense\n",
        "from sklearn.preprocessing import MinMaxScaler\n",
        "import seaborn as sns\n",
        "import pandas as pd\n",
        "\n",
        "%load_ext tensorboard\n",
        "import tensorflow as tf\n",
        "import os\n",
        "import datetime\n",
        "\n",
        "logdir = os.path.join(\"logs\", datetime.datetime.now().strftime(\"%Y%m%d-%H%M%S\"))\n",
        "tensorboard_callback = tf.keras.callbacks.TensorBoard(logdir, histogram_freq=1)"
      ],
      "execution_count": 59,
      "outputs": [
        {
          "output_type": "stream",
          "text": [
            "The tensorboard extension is already loaded. To reload it, use:\n",
            "  %reload_ext tensorboard\n"
          ],
          "name": "stdout"
        }
      ]
    },
    {
      "cell_type": "code",
      "metadata": {
        "colab_type": "code",
        "id": "8NLTAR87uYJ-",
        "colab": {}
      },
      "source": [
        "# loading data into train/test\n",
        "(X_train, y_train), (X_test, y_test) = boston_housing.load_data()"
      ],
      "execution_count": 32,
      "outputs": []
    },
    {
      "cell_type": "code",
      "metadata": {
        "id": "NLRL-RIOWMEh",
        "colab_type": "code",
        "colab": {}
      },
      "source": [
        "# transforming the data to be on same scale\n",
        "scaler = MinMaxScaler()\n",
        "\n",
        "X_train = scaler.fit_transform(X_train)\n",
        "X_test = scaler.transform(X_test)"
      ],
      "execution_count": 35,
      "outputs": []
    },
    {
      "cell_type": "code",
      "metadata": {
        "id": "599z5p7pZkXQ",
        "colab_type": "code",
        "colab": {
          "base_uri": "https://localhost:8080/",
          "height": 1000
        },
        "outputId": "102db517-545b-4eb7-f976-81e81aabc693"
      },
      "source": [
        "# instantiating a model object\n",
        "model = Sequential()\n",
        "\n",
        "# adding layers to the model\n",
        "model.add(Dense(13, input_dim=13, activation='relu'))\n",
        "model.add(Dense(10, activation='relu'))\n",
        "model.add(Dense(1, activation='relu'))\n",
        "\n",
        "# compiling the model\n",
        "model.compile(loss='mean_squared_error', optimizer='adam', metrics='mse')\n",
        "\n",
        "# fitting the model, The MSE of the final epoch was 40.4833\n",
        "model = model.fit(x=X_train, \n",
        "          y=y_train, \n",
        "          epochs=100, \n",
        "          validation_data=(X_test,y_test),\n",
        "          callbacks=[tensorboard_callback])"
      ],
      "execution_count": 53,
      "outputs": [
        {
          "output_type": "stream",
          "text": [
            "Epoch 1/100\n",
            "13/13 [==============================] - 0s 16ms/step - loss: 582.1415 - mse: 582.1415 - val_loss: 609.5787 - val_mse: 609.5787\n",
            "Epoch 2/100\n",
            "13/13 [==============================] - 0s 5ms/step - loss: 576.6890 - mse: 576.6890 - val_loss: 600.7982 - val_mse: 600.7982\n",
            "Epoch 3/100\n",
            "13/13 [==============================] - 0s 5ms/step - loss: 564.5407 - mse: 564.5407 - val_loss: 584.4966 - val_mse: 584.4966\n",
            "Epoch 4/100\n",
            "13/13 [==============================] - 0s 5ms/step - loss: 547.5308 - mse: 547.5308 - val_loss: 565.7670 - val_mse: 565.7670\n",
            "Epoch 5/100\n",
            "13/13 [==============================] - 0s 5ms/step - loss: 528.3654 - mse: 528.3654 - val_loss: 544.1550 - val_mse: 544.1550\n",
            "Epoch 6/100\n",
            "13/13 [==============================] - 0s 6ms/step - loss: 505.9059 - mse: 505.9059 - val_loss: 518.7593 - val_mse: 518.7593\n",
            "Epoch 7/100\n",
            "13/13 [==============================] - 0s 5ms/step - loss: 479.9961 - mse: 479.9961 - val_loss: 489.2046 - val_mse: 489.2046\n",
            "Epoch 8/100\n",
            "13/13 [==============================] - 0s 5ms/step - loss: 448.7664 - mse: 448.7664 - val_loss: 452.9457 - val_mse: 452.9457\n",
            "Epoch 9/100\n",
            "13/13 [==============================] - 0s 6ms/step - loss: 410.7845 - mse: 410.7845 - val_loss: 409.8346 - val_mse: 409.8346\n",
            "Epoch 10/100\n",
            "13/13 [==============================] - 0s 6ms/step - loss: 367.3961 - mse: 367.3961 - val_loss: 363.5658 - val_mse: 363.5658\n",
            "Epoch 11/100\n",
            "13/13 [==============================] - 0s 7ms/step - loss: 322.7469 - mse: 322.7469 - val_loss: 317.1865 - val_mse: 317.1865\n",
            "Epoch 12/100\n",
            "13/13 [==============================] - 0s 5ms/step - loss: 279.6974 - mse: 279.6974 - val_loss: 274.2535 - val_mse: 274.2535\n",
            "Epoch 13/100\n",
            "13/13 [==============================] - 0s 6ms/step - loss: 240.9144 - mse: 240.9144 - val_loss: 237.7892 - val_mse: 237.7892\n",
            "Epoch 14/100\n",
            "13/13 [==============================] - 0s 5ms/step - loss: 209.9812 - mse: 209.9812 - val_loss: 208.0680 - val_mse: 208.0680\n",
            "Epoch 15/100\n",
            "13/13 [==============================] - 0s 6ms/step - loss: 186.1951 - mse: 186.1951 - val_loss: 186.3706 - val_mse: 186.3706\n",
            "Epoch 16/100\n",
            "13/13 [==============================] - 0s 6ms/step - loss: 168.6843 - mse: 168.6843 - val_loss: 172.1255 - val_mse: 172.1255\n",
            "Epoch 17/100\n",
            "13/13 [==============================] - 0s 5ms/step - loss: 157.4004 - mse: 157.4004 - val_loss: 161.7547 - val_mse: 161.7547\n",
            "Epoch 18/100\n",
            "13/13 [==============================] - 0s 6ms/step - loss: 148.8892 - mse: 148.8892 - val_loss: 153.5109 - val_mse: 153.5109\n",
            "Epoch 19/100\n",
            "13/13 [==============================] - 0s 6ms/step - loss: 141.3035 - mse: 141.3035 - val_loss: 146.0464 - val_mse: 146.0464\n",
            "Epoch 20/100\n",
            "13/13 [==============================] - 0s 5ms/step - loss: 134.3664 - mse: 134.3664 - val_loss: 139.4539 - val_mse: 139.4539\n",
            "Epoch 21/100\n",
            "13/13 [==============================] - 0s 5ms/step - loss: 127.9231 - mse: 127.9231 - val_loss: 132.9597 - val_mse: 132.9597\n",
            "Epoch 22/100\n",
            "13/13 [==============================] - 0s 5ms/step - loss: 121.7439 - mse: 121.7439 - val_loss: 126.5270 - val_mse: 126.5270\n",
            "Epoch 23/100\n",
            "13/13 [==============================] - 0s 5ms/step - loss: 115.4285 - mse: 115.4285 - val_loss: 120.4718 - val_mse: 120.4718\n",
            "Epoch 24/100\n",
            "13/13 [==============================] - 0s 5ms/step - loss: 109.5530 - mse: 109.5530 - val_loss: 114.5178 - val_mse: 114.5178\n",
            "Epoch 25/100\n",
            "13/13 [==============================] - 0s 5ms/step - loss: 103.8194 - mse: 103.8194 - val_loss: 108.7090 - val_mse: 108.7090\n",
            "Epoch 26/100\n",
            "13/13 [==============================] - 0s 6ms/step - loss: 98.2666 - mse: 98.2666 - val_loss: 103.2741 - val_mse: 103.2741\n",
            "Epoch 27/100\n",
            "13/13 [==============================] - 0s 5ms/step - loss: 93.2512 - mse: 93.2512 - val_loss: 98.0219 - val_mse: 98.0219\n",
            "Epoch 28/100\n",
            "13/13 [==============================] - 0s 5ms/step - loss: 88.2015 - mse: 88.2015 - val_loss: 93.3698 - val_mse: 93.3698\n",
            "Epoch 29/100\n",
            "13/13 [==============================] - 0s 5ms/step - loss: 83.8950 - mse: 83.8950 - val_loss: 88.9705 - val_mse: 88.9705\n",
            "Epoch 30/100\n",
            "13/13 [==============================] - 0s 5ms/step - loss: 79.7262 - mse: 79.7262 - val_loss: 84.8039 - val_mse: 84.8039\n",
            "Epoch 31/100\n",
            "13/13 [==============================] - 0s 7ms/step - loss: 75.8895 - mse: 75.8895 - val_loss: 80.9402 - val_mse: 80.9402\n",
            "Epoch 32/100\n",
            "13/13 [==============================] - 0s 5ms/step - loss: 72.3716 - mse: 72.3716 - val_loss: 77.4433 - val_mse: 77.4433\n",
            "Epoch 33/100\n",
            "13/13 [==============================] - 0s 5ms/step - loss: 69.1256 - mse: 69.1256 - val_loss: 74.3014 - val_mse: 74.3014\n",
            "Epoch 34/100\n",
            "13/13 [==============================] - 0s 5ms/step - loss: 66.3238 - mse: 66.3238 - val_loss: 71.3727 - val_mse: 71.3727\n",
            "Epoch 35/100\n",
            "13/13 [==============================] - 0s 5ms/step - loss: 63.7338 - mse: 63.7338 - val_loss: 68.7835 - val_mse: 68.7835\n",
            "Epoch 36/100\n",
            "13/13 [==============================] - 0s 5ms/step - loss: 61.3974 - mse: 61.3974 - val_loss: 66.2292 - val_mse: 66.2292\n",
            "Epoch 37/100\n",
            "13/13 [==============================] - 0s 6ms/step - loss: 59.0163 - mse: 59.0163 - val_loss: 63.0649 - val_mse: 63.0649\n",
            "Epoch 38/100\n",
            "13/13 [==============================] - 0s 5ms/step - loss: 55.9195 - mse: 55.9195 - val_loss: 59.9949 - val_mse: 59.9949\n",
            "Epoch 39/100\n",
            "13/13 [==============================] - 0s 5ms/step - loss: 53.5436 - mse: 53.5436 - val_loss: 57.2265 - val_mse: 57.2265\n",
            "Epoch 40/100\n",
            "13/13 [==============================] - 0s 6ms/step - loss: 51.2010 - mse: 51.2010 - val_loss: 54.7538 - val_mse: 54.7538\n",
            "Epoch 41/100\n",
            "13/13 [==============================] - 0s 6ms/step - loss: 49.2138 - mse: 49.2138 - val_loss: 52.5594 - val_mse: 52.5594\n",
            "Epoch 42/100\n",
            "13/13 [==============================] - 0s 6ms/step - loss: 47.5257 - mse: 47.5257 - val_loss: 50.6653 - val_mse: 50.6653\n",
            "Epoch 43/100\n",
            "13/13 [==============================] - 0s 6ms/step - loss: 46.0676 - mse: 46.0676 - val_loss: 49.0571 - val_mse: 49.0571\n",
            "Epoch 44/100\n",
            "13/13 [==============================] - 0s 6ms/step - loss: 44.8147 - mse: 44.8147 - val_loss: 47.5072 - val_mse: 47.5072\n",
            "Epoch 45/100\n",
            "13/13 [==============================] - 0s 5ms/step - loss: 43.5905 - mse: 43.5905 - val_loss: 46.1876 - val_mse: 46.1876\n",
            "Epoch 46/100\n",
            "13/13 [==============================] - 0s 5ms/step - loss: 42.5788 - mse: 42.5788 - val_loss: 44.9730 - val_mse: 44.9730\n",
            "Epoch 47/100\n",
            "13/13 [==============================] - 0s 6ms/step - loss: 41.6337 - mse: 41.6337 - val_loss: 43.9296 - val_mse: 43.9296\n",
            "Epoch 48/100\n",
            "13/13 [==============================] - 0s 5ms/step - loss: 40.7254 - mse: 40.7254 - val_loss: 42.8046 - val_mse: 42.8046\n",
            "Epoch 49/100\n",
            "13/13 [==============================] - 0s 5ms/step - loss: 39.6988 - mse: 39.6988 - val_loss: 42.0076 - val_mse: 42.0076\n",
            "Epoch 50/100\n",
            "13/13 [==============================] - 0s 5ms/step - loss: 38.9379 - mse: 38.9379 - val_loss: 40.9413 - val_mse: 40.9413\n",
            "Epoch 51/100\n",
            "13/13 [==============================] - 0s 5ms/step - loss: 38.0666 - mse: 38.0666 - val_loss: 40.0130 - val_mse: 40.0130\n",
            "Epoch 52/100\n",
            "13/13 [==============================] - 0s 5ms/step - loss: 37.2090 - mse: 37.2090 - val_loss: 39.1909 - val_mse: 39.1909\n",
            "Epoch 53/100\n",
            "13/13 [==============================] - 0s 6ms/step - loss: 36.5402 - mse: 36.5402 - val_loss: 38.3967 - val_mse: 38.3967\n",
            "Epoch 54/100\n",
            "13/13 [==============================] - 0s 5ms/step - loss: 35.7599 - mse: 35.7599 - val_loss: 37.6061 - val_mse: 37.6061\n",
            "Epoch 55/100\n",
            "13/13 [==============================] - 0s 6ms/step - loss: 34.9713 - mse: 34.9713 - val_loss: 37.0096 - val_mse: 37.0096\n",
            "Epoch 56/100\n",
            "13/13 [==============================] - 0s 6ms/step - loss: 34.2785 - mse: 34.2785 - val_loss: 36.3382 - val_mse: 36.3382\n",
            "Epoch 57/100\n",
            "13/13 [==============================] - 0s 7ms/step - loss: 33.5779 - mse: 33.5779 - val_loss: 35.5451 - val_mse: 35.5451\n",
            "Epoch 58/100\n",
            "13/13 [==============================] - 0s 6ms/step - loss: 32.8597 - mse: 32.8597 - val_loss: 34.9340 - val_mse: 34.9340\n",
            "Epoch 59/100\n",
            "13/13 [==============================] - 0s 5ms/step - loss: 32.3508 - mse: 32.3508 - val_loss: 34.4430 - val_mse: 34.4430\n",
            "Epoch 60/100\n",
            "13/13 [==============================] - 0s 5ms/step - loss: 31.6213 - mse: 31.6213 - val_loss: 33.7156 - val_mse: 33.7156\n",
            "Epoch 61/100\n",
            "13/13 [==============================] - 0s 5ms/step - loss: 30.9829 - mse: 30.9829 - val_loss: 33.3705 - val_mse: 33.3705\n",
            "Epoch 62/100\n",
            "13/13 [==============================] - 0s 6ms/step - loss: 30.4774 - mse: 30.4774 - val_loss: 32.8094 - val_mse: 32.8094\n",
            "Epoch 63/100\n",
            "13/13 [==============================] - 0s 6ms/step - loss: 29.8460 - mse: 29.8460 - val_loss: 32.1611 - val_mse: 32.1611\n",
            "Epoch 64/100\n",
            "13/13 [==============================] - 0s 5ms/step - loss: 29.3603 - mse: 29.3603 - val_loss: 31.6944 - val_mse: 31.6944\n",
            "Epoch 65/100\n",
            "13/13 [==============================] - 0s 6ms/step - loss: 28.9878 - mse: 28.9878 - val_loss: 31.1996 - val_mse: 31.1996\n",
            "Epoch 66/100\n",
            "13/13 [==============================] - 0s 5ms/step - loss: 28.3024 - mse: 28.3024 - val_loss: 31.1076 - val_mse: 31.1076\n",
            "Epoch 67/100\n",
            "13/13 [==============================] - 0s 5ms/step - loss: 27.9434 - mse: 27.9434 - val_loss: 30.6997 - val_mse: 30.6997\n",
            "Epoch 68/100\n",
            "13/13 [==============================] - 0s 5ms/step - loss: 27.4819 - mse: 27.4819 - val_loss: 30.0287 - val_mse: 30.0287\n",
            "Epoch 69/100\n",
            "13/13 [==============================] - 0s 5ms/step - loss: 27.2040 - mse: 27.2040 - val_loss: 29.7212 - val_mse: 29.7212\n",
            "Epoch 70/100\n",
            "13/13 [==============================] - 0s 6ms/step - loss: 26.7076 - mse: 26.7076 - val_loss: 29.6880 - val_mse: 29.6880\n",
            "Epoch 71/100\n",
            "13/13 [==============================] - 0s 5ms/step - loss: 26.2052 - mse: 26.2052 - val_loss: 28.9926 - val_mse: 28.9926\n",
            "Epoch 72/100\n",
            "13/13 [==============================] - 0s 5ms/step - loss: 25.9352 - mse: 25.9352 - val_loss: 28.7559 - val_mse: 28.7559\n",
            "Epoch 73/100\n",
            "13/13 [==============================] - 0s 5ms/step - loss: 25.4558 - mse: 25.4558 - val_loss: 28.3260 - val_mse: 28.3260\n",
            "Epoch 74/100\n",
            "13/13 [==============================] - 0s 5ms/step - loss: 25.2375 - mse: 25.2375 - val_loss: 28.1682 - val_mse: 28.1682\n",
            "Epoch 75/100\n",
            "13/13 [==============================] - 0s 6ms/step - loss: 25.0610 - mse: 25.0610 - val_loss: 28.2392 - val_mse: 28.2392\n",
            "Epoch 76/100\n",
            "13/13 [==============================] - 0s 6ms/step - loss: 24.5984 - mse: 24.5984 - val_loss: 27.4532 - val_mse: 27.4532\n",
            "Epoch 77/100\n",
            "13/13 [==============================] - 0s 6ms/step - loss: 24.2190 - mse: 24.2190 - val_loss: 27.6038 - val_mse: 27.6038\n",
            "Epoch 78/100\n",
            "13/13 [==============================] - 0s 5ms/step - loss: 23.9896 - mse: 23.9896 - val_loss: 27.2647 - val_mse: 27.2647\n",
            "Epoch 79/100\n",
            "13/13 [==============================] - 0s 5ms/step - loss: 23.6356 - mse: 23.6356 - val_loss: 27.1249 - val_mse: 27.1249\n",
            "Epoch 80/100\n",
            "13/13 [==============================] - 0s 5ms/step - loss: 23.3904 - mse: 23.3904 - val_loss: 26.9401 - val_mse: 26.9401\n",
            "Epoch 81/100\n",
            "13/13 [==============================] - 0s 6ms/step - loss: 23.1373 - mse: 23.1373 - val_loss: 26.7150 - val_mse: 26.7150\n",
            "Epoch 82/100\n",
            "13/13 [==============================] - 0s 6ms/step - loss: 22.9225 - mse: 22.9225 - val_loss: 26.4734 - val_mse: 26.4734\n",
            "Epoch 83/100\n",
            "13/13 [==============================] - 0s 5ms/step - loss: 22.7543 - mse: 22.7543 - val_loss: 26.4364 - val_mse: 26.4364\n",
            "Epoch 84/100\n",
            "13/13 [==============================] - 0s 6ms/step - loss: 22.5744 - mse: 22.5744 - val_loss: 26.2171 - val_mse: 26.2171\n",
            "Epoch 85/100\n",
            "13/13 [==============================] - 0s 5ms/step - loss: 22.3711 - mse: 22.3711 - val_loss: 26.0575 - val_mse: 26.0575\n",
            "Epoch 86/100\n",
            "13/13 [==============================] - 0s 5ms/step - loss: 22.3838 - mse: 22.3838 - val_loss: 26.2484 - val_mse: 26.2484\n",
            "Epoch 87/100\n",
            "13/13 [==============================] - 0s 5ms/step - loss: 22.0461 - mse: 22.0461 - val_loss: 25.7489 - val_mse: 25.7489\n",
            "Epoch 88/100\n",
            "13/13 [==============================] - 0s 5ms/step - loss: 21.8497 - mse: 21.8497 - val_loss: 25.7942 - val_mse: 25.7942\n",
            "Epoch 89/100\n",
            "13/13 [==============================] - 0s 5ms/step - loss: 21.7371 - mse: 21.7371 - val_loss: 25.7867 - val_mse: 25.7867\n",
            "Epoch 90/100\n",
            "13/13 [==============================] - 0s 5ms/step - loss: 21.7653 - mse: 21.7653 - val_loss: 25.4413 - val_mse: 25.4413\n",
            "Epoch 91/100\n",
            "13/13 [==============================] - 0s 5ms/step - loss: 21.3520 - mse: 21.3520 - val_loss: 25.7497 - val_mse: 25.7497\n",
            "Epoch 92/100\n",
            "13/13 [==============================] - 0s 6ms/step - loss: 21.3908 - mse: 21.3908 - val_loss: 25.4819 - val_mse: 25.4819\n",
            "Epoch 93/100\n",
            "13/13 [==============================] - 0s 6ms/step - loss: 21.1561 - mse: 21.1561 - val_loss: 25.4842 - val_mse: 25.4842\n",
            "Epoch 94/100\n",
            "13/13 [==============================] - 0s 5ms/step - loss: 21.0880 - mse: 21.0880 - val_loss: 25.2189 - val_mse: 25.2189\n",
            "Epoch 95/100\n",
            "13/13 [==============================] - 0s 5ms/step - loss: 20.9610 - mse: 20.9610 - val_loss: 25.0631 - val_mse: 25.0631\n",
            "Epoch 96/100\n",
            "13/13 [==============================] - 0s 5ms/step - loss: 20.8278 - mse: 20.8278 - val_loss: 25.1916 - val_mse: 25.1916\n",
            "Epoch 97/100\n",
            "13/13 [==============================] - 0s 5ms/step - loss: 20.7214 - mse: 20.7214 - val_loss: 24.9414 - val_mse: 24.9414\n",
            "Epoch 98/100\n",
            "13/13 [==============================] - 0s 5ms/step - loss: 20.6189 - mse: 20.6189 - val_loss: 25.0931 - val_mse: 25.0931\n",
            "Epoch 99/100\n",
            "13/13 [==============================] - 0s 5ms/step - loss: 20.5264 - mse: 20.5264 - val_loss: 25.0420 - val_mse: 25.0420\n",
            "Epoch 100/100\n",
            "13/13 [==============================] - 0s 5ms/step - loss: 20.4569 - mse: 20.4569 - val_loss: 24.8632 - val_mse: 24.8632\n"
          ],
          "name": "stdout"
        }
      ]
    },
    {
      "cell_type": "code",
      "metadata": {
        "id": "XulLsAZxj_Ec",
        "colab_type": "code",
        "colab": {
          "base_uri": "https://localhost:8080/",
          "height": 280
        },
        "outputId": "f5e53801-7080-475e-e10e-a970d5d06bfd"
      },
      "source": [
        "# using history to make a graph\n",
        "history = model.history\n",
        "df = pd.DataFrame(data={\n",
        "    'epochs':[x + 1 for x in range(len(history['loss']))],\n",
        "    'loss':history['loss'],\n",
        "    'mse':history['mse'],\n",
        "    'val_loss':history['val_loss'],\n",
        "    'val_mse':history['val_mse'],\n",
        "})\n",
        "\n",
        "sns.lineplot(x='epochs', y='loss', data=df);"
      ],
      "execution_count": 74,
      "outputs": [
        {
          "output_type": "display_data",
          "data": {
            "image/png": "[encoded data removed]",
            "text/plain": [
              "<Figure size 432x288 with 1 Axes>"
            ]
          },
          "metadata": {
            "tags": [],
            "needs_background": "light"
          }
        }
      ]
    },
    {
      "cell_type": "code",
      "metadata": {
        "id": "0s34RCjxk2iK",
        "colab_type": "code",
        "colab": {
          "base_uri": "https://localhost:8080/",
          "height": 279
        },
        "outputId": "70a641c3-8a3e-4e98-dc48-c49c58f8bb03"
      },
      "source": [
        "sns.lineplot(x='epochs', y='val_mse', data=df);"
      ],
      "execution_count": 73,
      "outputs": [
        {
          "output_type": "display_data",
          "data": {
            "image/png": "[encoded data removed]",
            "text/plain": [
              "<Figure size 432x288 with 1 Axes>"
            ]
          },
          "metadata": {
            "tags": [],
            "needs_background": "light"
          }
        }
      ]
    },
    {
      "cell_type": "markdown",
      "metadata": {
        "colab_type": "text",
        "id": "SfcFnOONyuNm"
      },
      "source": [
        "## Use the Keras Library to build an image recognition network using the Fashion-MNIST dataset (also comes with keras)\n",
        "\n",
        "- Load and preprocess the image data similar to how we preprocessed the MNIST data in class.\n",
        "- Make sure to one-hot encode your category labels\n",
        "- The number of nodes in your output layer should equal the number of classes you want to predict for Fashion-MNIST.\n",
        "- Try different hyperparameters. What is the highest accuracy that you are able to achieve.\n",
        "- Use the history object that is returned from model.fit to make graphs of the model's loss or train/validation accuracies by epoch. \n",
        "- Remember that neural networks fall prey to randomness so you may need to run your model multiple times (or use Cross Validation) in order to tell if a change to a hyperparameter is truly producing better results."
      ]
    },
    {
      "cell_type": "code",
      "metadata": {
        "colab_type": "code",
        "id": "szi6-IpuzaH1",
        "colab": {}
      },
      "source": [
        "##### Your Code Here #####"
      ],
      "execution_count": null,
      "outputs": []
    },
    {
      "cell_type": "markdown",
      "metadata": {
        "colab_type": "text",
        "id": "zv_3xNMjzdLI"
      },
      "source": [
        "## Stretch Goals:\n",
        "\n",
        "- Use Hyperparameter Tuning to make the accuracy of your models as high as possible. (error as low as possible)\n",
        "- Use Cross Validation techniques to get more consistent results with your model.\n",
        "- Use GridSearchCV to try different combinations of hyperparameters. \n",
        "- Start looking into other types of Keras layers for CNNs and RNNs maybe try and build a CNN model for fashion-MNIST to see how the results compare."
      ]
    }
  ]
}